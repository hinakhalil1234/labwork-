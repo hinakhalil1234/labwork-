{
 "cells": [
  {
   "cell_type": "code",
   "execution_count": 1,
   "id": "7a8e69fb",
   "metadata": {},
   "outputs": [],
   "source": [
    "import numpy as np\n",
    "import matplotlib.pyplot as plt"
   ]
  },
  {
   "cell_type": "code",
   "execution_count": 2,
   "id": "756e1dbe",
   "metadata": {},
   "outputs": [
    {
     "name": "stdout",
     "output_type": "stream",
     "text": [
      "\t f'(x)\t\t err\t\t f''(x)\t\t err\n"
     ]
    }
   ],
   "source": [
    "f=lambda x: 0.1*x**5-0.2*x**3+0.1*x-0.2\n",
    "x=0.1\n",
    "h=0.1\n",
    "df1=0.09405\n",
    "df2=-0.118\n",
    "print(\"\\t f'(x)\\t\\t err\\t\\t f''(x)\\t\\t err\")"
   ]
  },
  {
   "cell_type": "code",
   "execution_count": 3,
   "id": "1cd3c1de",
   "metadata": {},
   "outputs": [
    {
     "name": "stdout",
     "output_type": "stream",
     "text": [
      "FFD\t 0.086310\t-0.007740\t-0.222000\t-0.104000\n"
     ]
    }
   ],
   "source": [
    "dff1=(f(x+h)-f(x))/h\n",
    "dff2=(f(x+2*h)-2*f(x+h)+f(x))/h**2\n",
    "print(\"FFD\\t% f\\t% f\\t% f\\t% f\"%(dff1,dff1-df1,dff2,dff2-df2))"
   ]
  },
  {
   "cell_type": "code",
   "execution_count": 4,
   "id": "df06e096",
   "metadata": {},
   "outputs": [
    {
     "name": "stdout",
     "output_type": "stream",
     "text": [
      "BFD\t 0.098010\t 0.003960\t 0.000000\t 0.118000\n"
     ]
    }
   ],
   "source": [
    "dff1=(f(x)-f(x-h))/h\n",
    "dff2=(f(x)-2*f(x-h)+f(x-2*h))/h**2\n",
    "print(\"BFD\\t% f\\t% f\\t% f\\t% f\"%(dff1,dff1-df1,dff2,dff2-df2))"
   ]
  },
  {
   "cell_type": "code",
   "execution_count": 5,
   "id": "2c796c69",
   "metadata": {},
   "outputs": [
    {
     "name": "stdout",
     "output_type": "stream",
     "text": [
      "CFD\t 0.000922\t-0.093128\t-0.117000\t 0.001000\n"
     ]
    }
   ],
   "source": [
    "dff1=(f(x+h)-f(x-h))/2*h\n",
    "dff2=(f(x+h)-2*f(x)+f(x-h))/h**2\n",
    "print(\"CFD\\t% f\\t% f\\t% f\\t% f\"%(dff1,dff1-df1,dff2,dff2-df2))"
   ]
  },
  {
   "cell_type": "code",
   "execution_count": 6,
   "id": "a0b016cf",
   "metadata": {},
   "outputs": [],
   "source": [
    "import numpy as np\n",
    "import matplotlib.pyplot as plt"
   ]
  },
  {
   "cell_type": "code",
   "execution_count": 8,
   "id": "dc84a09a",
   "metadata": {},
   "outputs": [],
   "source": [
    "f=lambda x: 0.1*x**5-0.2*x**3+0.1*x-0.2\n",
    "h=0.01\n",
    "# will create an array of elements between -1 and 1 having 50 equal \n",
    "x=np.linspace(-1,1,50)\n",
    "#central difference"
   ]
  },
  {
   "cell_type": "code",
   "execution_count": 10,
   "id": "7856a6b4",
   "metadata": {},
   "outputs": [
    {
     "data": {
      "image/png": "[encoded data removed]",
      "text/plain": [
       "<Figure size 432x288 with 1 Axes>"
      ]
     },
     "metadata": {
      "needs_background": "light"
     },
     "output_type": "display_data"
    }
   ],
   "source": [
    "dff1=(f(x+h)-f(x-h))/2*h\n",
    "dff2=(f(x+h)-2*f(x)+f(x-h))/h**2\n",
    "#plot\n",
    "plt.plot(x,f(x),'-k',x,dff1,'--b',x,dff2,'-.r')\n",
    "plt.xlabel('x')\n",
    "plt.ylabel('y')\n",
    "plt.legend([\"f(x)\",\"f'(x)\",\"f''(x)\"])\n",
    "plt.grid()"
   ]
  },
  {
   "cell_type": "code",
   "execution_count": null,
   "id": "b8f55f7f",
   "metadata": {},
   "outputs": [],
   "source": []
  }
 ],
 "metadata": {
  "kernelspec": {
   "display_name": "Python 3 (ipykernel)",
   "language": "python",
   "name": "python3"
  },
  "language_info": {
   "codemirror_mode": {
    "name": "ipython",
    "version": 3
   },
   "file_extension": ".py",
   "mimetype": "text/x-python",
   "name": "python",
   "nbconvert_exporter": "python",
   "pygments_lexer": "ipython3",
   "version": "3.9.7"
  }
 },
 "nbformat": 4,
 "nbformat_minor": 5
}
